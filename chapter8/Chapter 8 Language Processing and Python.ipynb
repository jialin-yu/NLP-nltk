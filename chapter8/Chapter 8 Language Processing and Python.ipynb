{
 "cells": [
  {
   "cell_type": "markdown",
   "metadata": {},
   "source": [
    "# 8.1 Some Grammatical Dilemmas\n",
    "\n",
    "    \n",
    "    \n",
    "### Linguistic Data and Unlimited Possibilities\n",
    "\n",
    "    Language have underlying structures and template and it is possible to generate novel sentences based on these rules and templates -- grammer.\n",
    "\n",
    "### Ubiquitous Ambiguity\n",
    "\n",
    "    I shot an elephant in my pajamas.\n",
    "    \n",
    "    shot -- use gun\n",
    "    shot -- use camera"
   ]
  },
  {
   "cell_type": "code",
   "execution_count": 1,
   "metadata": {},
   "outputs": [],
   "source": [
    "import nltk\n",
    "import re\n",
    "import pprint"
   ]
  },
  {
   "cell_type": "code",
   "execution_count": 7,
   "metadata": {},
   "outputs": [
    {
     "name": "stdout",
     "output_type": "stream",
     "text": [
      "[0:1] 'I'\n",
      "[1:2] 'shot'\n",
      "[2:3] 'an'\n",
      "[3:4] 'elephant'\n",
      "[4:5] 'in'\n",
      "[5:6] 'my'\n",
      "[6:7] 'pajamas'\n",
      "[0:1] NP -> 'I' *\n",
      "[0:1] S  -> NP * VP\n",
      "[1:2] V  -> 'shot' *\n",
      "[1:2] VP -> V * NP\n",
      "[2:3] Det -> 'an' *\n",
      "[2:3] NP -> Det * N\n",
      "[2:3] NP -> Det * N PP\n",
      "[3:4] N  -> 'elephant' *\n",
      "[2:4] NP -> Det N *\n",
      "[2:4] NP -> Det N * PP\n",
      "[2:4] S  -> NP * VP\n",
      "[1:4] VP -> V NP *\n",
      "[1:4] VP -> VP * PP\n",
      "[0:4] S  -> NP VP *\n",
      "[4:5] P  -> 'in' *\n",
      "[4:5] PP -> P * NP\n",
      "[5:6] Det -> 'my' *\n",
      "[5:6] NP -> Det * N\n",
      "[5:6] NP -> Det * N PP\n",
      "[6:7] N  -> 'pajamas' *\n",
      "[5:7] NP -> Det N *\n",
      "[5:7] NP -> Det N * PP\n",
      "[5:7] S  -> NP * VP\n",
      "[4:7] PP -> P NP *\n",
      "[2:7] NP -> Det N PP *\n",
      "[1:7] VP -> VP PP *\n",
      "[1:7] VP -> VP * PP\n",
      "[0:7] S  -> NP VP *\n",
      "[2:7] S  -> NP * VP\n",
      "[1:7] VP -> V NP *\n"
     ]
    }
   ],
   "source": [
    "groucho_grammar = nltk.CFG.fromstring(\"\"\"\n",
    "S -> NP VP\n",
    "PP -> P NP\n",
    "NP -> Det N | Det N PP | 'I'\n",
    "VP -> V NP | VP PP\n",
    "Det -> 'an' | 'my'\n",
    "N -> 'elephant' | 'pajamas'\n",
    "V -> 'shot'\n",
    "P -> 'in'\n",
    "\"\"\")\n",
    "\n",
    "sent = ['I', 'shot', 'an', 'elephant', 'in', 'my', 'pajamas']\n",
    "parser = nltk.ChartParser(groucho_grammar)\n",
    "trees = parser.chart_parse(sent)\n",
    "\n",
    "for tree in trees:\n",
    "    print(tree)"
   ]
  },
  {
   "cell_type": "markdown",
   "metadata": {},
   "source": [
    "# 8.2 What's the Use of Syntax?\n",
    "\n",
    "\n",
    "### Beyond n-grams\n",
    "\n",
    "    grammatical correct?\n",
    "    \n",
    "    constituent strucutre -- Constituent structure is based on the observation that words combine with other words to form units.\n",
    "    "
   ]
  },
  {
   "cell_type": "markdown",
   "metadata": {},
   "source": [
    "# 8.3 Context-Free Grammer\n",
    "\n",
    "    A CFG can give structurally ambiguous sentences in tree form. -- usually a prepositional phrase attarchment ambiguity problem\n",
    "    "
   ]
  },
  {
   "cell_type": "markdown",
   "metadata": {},
   "source": [
    "# 8.4 Parsing with Context-Free Grammer\n",
    "\n",
    "    Parser: process input sentence according to the productions of a grammer, and build one or more constituent strucutres that conform to the grammer.\n",
    "    \n",
    "    * top-down method: recursive descent parsing\n",
    "    * bottom-up method: shift-reduce parsing\n",
    "    \n",
    "    top-down with bottom-up filtering: left-corner parsing\n",
    "    dynamic programming method: chart parsing"
   ]
  },
  {
   "cell_type": "markdown",
   "metadata": {},
   "source": [
    "# 8.5 Dependencies and Dependency Grammar\n",
    "\n",
    "    dependency grammer: how words are related with each other. head <--> dependents\n",
    "    projective -- linear oder graph and non-projective -- tree/graph"
   ]
  },
  {
   "cell_type": "markdown",
   "metadata": {},
   "source": [
    "# 8.6 Grammar Development"
   ]
  }
 ],
 "metadata": {
  "kernelspec": {
   "display_name": "Python 3",
   "language": "python",
   "name": "python3"
  },
  "language_info": {
   "codemirror_mode": {
    "name": "ipython",
    "version": 3
   },
   "file_extension": ".py",
   "mimetype": "text/x-python",
   "name": "python",
   "nbconvert_exporter": "python",
   "pygments_lexer": "ipython3",
   "version": "3.8.5"
  }
 },
 "nbformat": 4,
 "nbformat_minor": 4
}
