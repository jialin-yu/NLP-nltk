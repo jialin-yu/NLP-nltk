{
 "cells": [
  {
   "cell_type": "markdown",
   "metadata": {},
   "source": [
    "## Note:\n",
    "\n",
    "### Text classification is a topic quite familar to me, so I will skip the part wherever I feel like."
   ]
  },
  {
   "cell_type": "markdown",
   "metadata": {},
   "source": [
    "# 6.1 Supervised Classification\n",
    "\n",
    "    -- Development Set : Training + Dev-Test\n",
    "    -- Test Set: Testing \n",
    "    \n",
    "    Note a good practive in training is to print out the results of the dev-test set:\n",
    "    \n",
    "    |correct = ... | guess = ... | data = ...|\n",
    "    \n",
    "    This help us to perform error analysis and improve our methods\n",
    "    \n",
    "    Dev-test should not be a static data set and should be selected randomly when perform training, this enhence the idea of generalisation -- learning the data not follow data blindly"
   ]
  },
  {
   "cell_type": "markdown",
   "metadata": {},
   "source": [
    "    Some thought about deep learning word-based model:\n",
    "    \n",
    "    They are not good at handling mearnings and context, since the inputs are purely words. However, we human knows not just from a single word also from its form such as -ing, -ed --> tense; eats, eat --> pronoun; and all sort of stuff.\n",
    "    \n",
    "    It will not be surprise that pre-training LM are perform better since they actually use a large corpus that might have enough corpus to contains all the cases above. For small size data, if an understandiny stasks are required, consider incorperate linguistic informations."
   ]
  },
  {
   "cell_type": "markdown",
   "metadata": {},
   "source": [
    "# 6.2 Further Examples of Supervised Classification\n",
    "\n",
    "    Identifying Dialogue Act Types -- speech as actions -- link to reinforcement learning  "
   ]
  },
  {
   "cell_type": "markdown",
   "metadata": {},
   "source": [
    "# 6.3 Evaluation \n",
    "\n",
    "    Accuracy\n",
    "    \n",
    "    Precision and Recall -- Search tasks\n",
    "    1) True Positive: relavent correctly identidied as relavent\n",
    "    2) True Negative: irrelavant correctly identified as irrelevent\n",
    "    3) False Positive (TPYE I): irrelavent incorrectly identified as relavent\n",
    "    4) False Negative (TYPE II): relevent incorrectly identified as irrelavent\n",
    "    \n",
    "    Precision = TP/(TP + FP)\n",
    "    Recall = TP(TP + FN)\n",
    "    F-Score = 2*Precesion*Recall/(Precision + Recall)\n",
    "    \n",
    "    F-score is biggest when precision == recall\n"
   ]
  },
  {
   "cell_type": "markdown",
   "metadata": {},
   "source": [
    "# 6.4 Decision Trees"
   ]
  },
  {
   "cell_type": "code",
   "execution_count": 4,
   "metadata": {},
   "outputs": [
    {
     "name": "stdout",
     "output_type": "stream",
     "text": [
      "-0.0\n",
      "0.8112781244591328\n",
      "1.0\n",
      "0.8112781244591328\n",
      "-0.0\n"
     ]
    }
   ],
   "source": [
    "# entropy\n",
    "\n",
    "import nltk\n",
    "import math\n",
    "\n",
    "def entropy(labels):\n",
    "    freqdist = nltk.FreqDist(labels)\n",
    "    probs = [freqdist.freq(l) for l in nltk.FreqDist(labels)]\n",
    "    return -sum([p * math.log(p,2) for p in probs])\n",
    "\n",
    "\n",
    "print(entropy(['male', 'male', 'male', 'male']))\n",
    "print(entropy(['male', 'female', 'male', 'male']))\n",
    "print(entropy(['male', 'female', 'female', 'male']))\n",
    "print(entropy(['female', 'female', 'male', 'female']))\n",
    "print(entropy(['female', 'female', 'female', 'female']))"
   ]
  },
  {
   "cell_type": "markdown",
   "metadata": {},
   "source": [
    "### Advantages\n",
    "\n",
    "    simple to understand, and easy to interpret\n",
    "    \n",
    "    suited to cases where many hierarchical categorical distinctions can be made\n",
    "    \n",
    "### Disadvantages\n",
    "    \n",
    "    since each branch in the decision tree splits the training data, the amount of training data available to train nodes lower in the tree can become quite small --> overfit\n",
    "    \n",
    "    force features to be checked in a specific order, even when features may act relatively independently of one another.\n",
    "    "
   ]
  }
 ],
 "metadata": {
  "kernelspec": {
   "display_name": "Python 3",
   "language": "python",
   "name": "python3"
  },
  "language_info": {
   "codemirror_mode": {
    "name": "ipython",
    "version": 3
   },
   "file_extension": ".py",
   "mimetype": "text/x-python",
   "name": "python",
   "nbconvert_exporter": "python",
   "pygments_lexer": "ipython3",
   "version": "3.8.5"
  }
 },
 "nbformat": 4,
 "nbformat_minor": 4
}
